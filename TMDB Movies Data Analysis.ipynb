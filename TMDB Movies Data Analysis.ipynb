{
 "cells": [
  {
   "cell_type": "markdown",
   "id": "8d43f681",
   "metadata": {},
   "source": [
    "\n",
    "# Project: Investigate a Dataset (TMDB-MOVIES DATA ANALYSIS)\n",
    "\n",
    "## Table of Contents\n",
    "<ul>\n",
    "<li><a href=\"#intro\">Introduction</a></li>\n",
    "<li><a href=\"#wrangling\">Data Wrangling</a></li>\n",
    "<li><a href=\"#eda\">Exploratory Data Analysis</a></li>\n",
    "<li><a href=\"#conclusions\">Conclusions</a></li>\n",
    "</ul>"
   ]
  },
  {
   "cell_type": "markdown",
   "id": "2ccf17a8",
   "metadata": {},
   "source": [
    "<a id='intro'></a>\n",
    "## Introduction\n",
    "\n",
    "> **Dataset info**: This dataset contains information about movies collected from The Movie Database (TMDB), and it has 10866 rows and 21 columns initially that includes (id, imdb_id,\tpopularity,\tbudget,\trevenue, original_title, ...). \n",
    "\n",
    ">In this project we will be analysing key variables in order to draw insights from them. For example, we will look at the particular genre that has generated the highest revenue over time, how the revenue of a movie is related with it's popularity (this insight is necessary because there are some movies produced that don't have much popularity internationally but has a great box-office revenue) so it is important to figure out the relationship between these variable.\n",
    "\n",
    "> some of the questions we tend to ask, given this dataset includes:\n",
    "#### Questions\n",
    "\n",
    "**> What type of genre has the highest movie budget over the years? (Top 5)**\n",
    "\n",
    "**> Which of the genre generated the highest revenue over the years? (Top 5)**\n",
    "\n",
    "**> How is the vote_average distributed?**\n",
    "\n",
    "**> Do movies with higher popularity receive better ratings?**\n",
    "\n",
    "**> Is there any singnificant relationship between revenue and popularity?**\n",
    "\n",
    "**> What is the trend of movie duration over the years?**\n",
    "\n",
    "**> How is the most revenue generating genre rated in the last five years of the dataset period?**"
   ]
  },
  {
   "cell_type": "code",
   "execution_count": 1,
   "id": "84d51ff3",
   "metadata": {},
   "outputs": [],
   "source": [
    "import numpy as np\n",
    "import pandas as pd\n",
    "import matplotlib.pyplot as plt\n",
    "import seaborn as sns\n",
    "%matplotlib inline\n"
   ]
  },
  {
   "cell_type": "markdown",
   "id": "b4d1b78a",
   "metadata": {},
   "source": [
    "<a id='wrangling'></a>\n",
    "## Data Wrangling\n",
    "\n",
    "\n",
    "### General Properties"
   ]
  },
  {
   "cell_type": "code",
   "execution_count": 2,
   "id": "3fd7fa84",
   "metadata": {},
   "outputs": [
    {
     "data": {
      "text/html": [
       "<div>\n",
       "<style scoped>\n",
       "    .dataframe tbody tr th:only-of-type {\n",
       "        vertical-align: middle;\n",
       "    }\n",
       "\n",
       "    .dataframe tbody tr th {\n",
       "        vertical-align: top;\n",
       "    }\n",
       "\n",
       "    .dataframe thead th {\n",
       "        text-align: right;\n",
       "    }\n",
       "</style>\n",
       "<table border=\"1\" class=\"dataframe\">\n",
       "  <thead>\n",
       "    <tr style=\"text-align: right;\">\n",
       "      <th></th>\n",
       "      <th>id</th>\n",
       "      <th>imdb_id</th>\n",
       "      <th>popularity</th>\n",
       "      <th>budget</th>\n",
       "      <th>revenue</th>\n",
       "      <th>original_title</th>\n",
       "      <th>cast</th>\n",
       "      <th>homepage</th>\n",
       "      <th>director</th>\n",
       "      <th>tagline</th>\n",
       "      <th>...</th>\n",
       "      <th>overview</th>\n",
       "      <th>runtime</th>\n",
       "      <th>genres</th>\n",
       "      <th>production_companies</th>\n",
       "      <th>release_date</th>\n",
       "      <th>vote_count</th>\n",
       "      <th>vote_average</th>\n",
       "      <th>release_year</th>\n",
       "      <th>budget_adj</th>\n",
       "      <th>revenue_adj</th>\n",
       "    </tr>\n",
       "  </thead>\n",
       "  <tbody>\n",
       "    <tr>\n",
       "      <th>0</th>\n",
       "      <td>135397</td>\n",
       "      <td>tt0369610</td>\n",
       "      <td>32.985763</td>\n",
       "      <td>150000000</td>\n",
       "      <td>1513528810</td>\n",
       "      <td>Jurassic World</td>\n",
       "      <td>Chris Pratt|Bryce Dallas Howard|Irrfan Khan|Vi...</td>\n",
       "      <td>http://www.jurassicworld.com/</td>\n",
       "      <td>Colin Trevorrow</td>\n",
       "      <td>The park is open.</td>\n",
       "      <td>...</td>\n",
       "      <td>Twenty-two years after the events of Jurassic ...</td>\n",
       "      <td>124</td>\n",
       "      <td>Action|Adventure|Science Fiction|Thriller</td>\n",
       "      <td>Universal Studios|Amblin Entertainment|Legenda...</td>\n",
       "      <td>6/9/15</td>\n",
       "      <td>5562</td>\n",
       "      <td>6.5</td>\n",
       "      <td>2015</td>\n",
       "      <td>1.379999e+08</td>\n",
       "      <td>1.392446e+09</td>\n",
       "    </tr>\n",
       "    <tr>\n",
       "      <th>1</th>\n",
       "      <td>76341</td>\n",
       "      <td>tt1392190</td>\n",
       "      <td>28.419936</td>\n",
       "      <td>150000000</td>\n",
       "      <td>378436354</td>\n",
       "      <td>Mad Max: Fury Road</td>\n",
       "      <td>Tom Hardy|Charlize Theron|Hugh Keays-Byrne|Nic...</td>\n",
       "      <td>http://www.madmaxmovie.com/</td>\n",
       "      <td>George Miller</td>\n",
       "      <td>What a Lovely Day.</td>\n",
       "      <td>...</td>\n",
       "      <td>An apocalyptic story set in the furthest reach...</td>\n",
       "      <td>120</td>\n",
       "      <td>Action|Adventure|Science Fiction|Thriller</td>\n",
       "      <td>Village Roadshow Pictures|Kennedy Miller Produ...</td>\n",
       "      <td>5/13/15</td>\n",
       "      <td>6185</td>\n",
       "      <td>7.1</td>\n",
       "      <td>2015</td>\n",
       "      <td>1.379999e+08</td>\n",
       "      <td>3.481613e+08</td>\n",
       "    </tr>\n",
       "    <tr>\n",
       "      <th>2</th>\n",
       "      <td>262500</td>\n",
       "      <td>tt2908446</td>\n",
       "      <td>13.112507</td>\n",
       "      <td>110000000</td>\n",
       "      <td>295238201</td>\n",
       "      <td>Insurgent</td>\n",
       "      <td>Shailene Woodley|Theo James|Kate Winslet|Ansel...</td>\n",
       "      <td>http://www.thedivergentseries.movie/#insurgent</td>\n",
       "      <td>Robert Schwentke</td>\n",
       "      <td>One Choice Can Destroy You</td>\n",
       "      <td>...</td>\n",
       "      <td>Beatrice Prior must confront her inner demons ...</td>\n",
       "      <td>119</td>\n",
       "      <td>Adventure|Science Fiction|Thriller</td>\n",
       "      <td>Summit Entertainment|Mandeville Films|Red Wago...</td>\n",
       "      <td>3/18/15</td>\n",
       "      <td>2480</td>\n",
       "      <td>6.3</td>\n",
       "      <td>2015</td>\n",
       "      <td>1.012000e+08</td>\n",
       "      <td>2.716190e+08</td>\n",
       "    </tr>\n",
       "    <tr>\n",
       "      <th>3</th>\n",
       "      <td>140607</td>\n",
       "      <td>tt2488496</td>\n",
       "      <td>11.173104</td>\n",
       "      <td>200000000</td>\n",
       "      <td>2068178225</td>\n",
       "      <td>Star Wars: The Force Awakens</td>\n",
       "      <td>Harrison Ford|Mark Hamill|Carrie Fisher|Adam D...</td>\n",
       "      <td>http://www.starwars.com/films/star-wars-episod...</td>\n",
       "      <td>J.J. Abrams</td>\n",
       "      <td>Every generation has a story.</td>\n",
       "      <td>...</td>\n",
       "      <td>Thirty years after defeating the Galactic Empi...</td>\n",
       "      <td>136</td>\n",
       "      <td>Action|Adventure|Science Fiction|Fantasy</td>\n",
       "      <td>Lucasfilm|Truenorth Productions|Bad Robot</td>\n",
       "      <td>12/15/15</td>\n",
       "      <td>5292</td>\n",
       "      <td>7.5</td>\n",
       "      <td>2015</td>\n",
       "      <td>1.839999e+08</td>\n",
       "      <td>1.902723e+09</td>\n",
       "    </tr>\n",
       "    <tr>\n",
       "      <th>4</th>\n",
       "      <td>168259</td>\n",
       "      <td>tt2820852</td>\n",
       "      <td>9.335014</td>\n",
       "      <td>190000000</td>\n",
       "      <td>1506249360</td>\n",
       "      <td>Furious 7</td>\n",
       "      <td>Vin Diesel|Paul Walker|Jason Statham|Michelle ...</td>\n",
       "      <td>http://www.furious7.com/</td>\n",
       "      <td>James Wan</td>\n",
       "      <td>Vengeance Hits Home</td>\n",
       "      <td>...</td>\n",
       "      <td>Deckard Shaw seeks revenge against Dominic Tor...</td>\n",
       "      <td>137</td>\n",
       "      <td>Action|Crime|Thriller</td>\n",
       "      <td>Universal Pictures|Original Film|Media Rights ...</td>\n",
       "      <td>4/1/15</td>\n",
       "      <td>2947</td>\n",
       "      <td>7.3</td>\n",
       "      <td>2015</td>\n",
       "      <td>1.747999e+08</td>\n",
       "      <td>1.385749e+09</td>\n",
       "    </tr>\n",
       "  </tbody>\n",
       "</table>\n",
       "<p>5 rows × 21 columns</p>\n",
       "</div>"
      ],
      "text/plain": [
       "       id    imdb_id  popularity     budget     revenue  \\\n",
       "0  135397  tt0369610   32.985763  150000000  1513528810   \n",
       "1   76341  tt1392190   28.419936  150000000   378436354   \n",
       "2  262500  tt2908446   13.112507  110000000   295238201   \n",
       "3  140607  tt2488496   11.173104  200000000  2068178225   \n",
       "4  168259  tt2820852    9.335014  190000000  1506249360   \n",
       "\n",
       "                 original_title  \\\n",
       "0                Jurassic World   \n",
       "1            Mad Max: Fury Road   \n",
       "2                     Insurgent   \n",
       "3  Star Wars: The Force Awakens   \n",
       "4                     Furious 7   \n",
       "\n",
       "                                                cast  \\\n",
       "0  Chris Pratt|Bryce Dallas Howard|Irrfan Khan|Vi...   \n",
       "1  Tom Hardy|Charlize Theron|Hugh Keays-Byrne|Nic...   \n",
       "2  Shailene Woodley|Theo James|Kate Winslet|Ansel...   \n",
       "3  Harrison Ford|Mark Hamill|Carrie Fisher|Adam D...   \n",
       "4  Vin Diesel|Paul Walker|Jason Statham|Michelle ...   \n",
       "\n",
       "                                            homepage          director  \\\n",
       "0                      http://www.jurassicworld.com/   Colin Trevorrow   \n",
       "1                        http://www.madmaxmovie.com/     George Miller   \n",
       "2     http://www.thedivergentseries.movie/#insurgent  Robert Schwentke   \n",
       "3  http://www.starwars.com/films/star-wars-episod...       J.J. Abrams   \n",
       "4                           http://www.furious7.com/         James Wan   \n",
       "\n",
       "                         tagline  ...  \\\n",
       "0              The park is open.  ...   \n",
       "1             What a Lovely Day.  ...   \n",
       "2     One Choice Can Destroy You  ...   \n",
       "3  Every generation has a story.  ...   \n",
       "4            Vengeance Hits Home  ...   \n",
       "\n",
       "                                            overview runtime  \\\n",
       "0  Twenty-two years after the events of Jurassic ...     124   \n",
       "1  An apocalyptic story set in the furthest reach...     120   \n",
       "2  Beatrice Prior must confront her inner demons ...     119   \n",
       "3  Thirty years after defeating the Galactic Empi...     136   \n",
       "4  Deckard Shaw seeks revenge against Dominic Tor...     137   \n",
       "\n",
       "                                      genres  \\\n",
       "0  Action|Adventure|Science Fiction|Thriller   \n",
       "1  Action|Adventure|Science Fiction|Thriller   \n",
       "2         Adventure|Science Fiction|Thriller   \n",
       "3   Action|Adventure|Science Fiction|Fantasy   \n",
       "4                      Action|Crime|Thriller   \n",
       "\n",
       "                                production_companies release_date vote_count  \\\n",
       "0  Universal Studios|Amblin Entertainment|Legenda...       6/9/15       5562   \n",
       "1  Village Roadshow Pictures|Kennedy Miller Produ...      5/13/15       6185   \n",
       "2  Summit Entertainment|Mandeville Films|Red Wago...      3/18/15       2480   \n",
       "3          Lucasfilm|Truenorth Productions|Bad Robot     12/15/15       5292   \n",
       "4  Universal Pictures|Original Film|Media Rights ...       4/1/15       2947   \n",
       "\n",
       "   vote_average  release_year    budget_adj   revenue_adj  \n",
       "0           6.5          2015  1.379999e+08  1.392446e+09  \n",
       "1           7.1          2015  1.379999e+08  3.481613e+08  \n",
       "2           6.3          2015  1.012000e+08  2.716190e+08  \n",
       "3           7.5          2015  1.839999e+08  1.902723e+09  \n",
       "4           7.3          2015  1.747999e+08  1.385749e+09  \n",
       "\n",
       "[5 rows x 21 columns]"
      ]
     },
     "execution_count": 2,
     "metadata": {},
     "output_type": "execute_result"
    }
   ],
   "source": [
    "# Load Dataset using the pandas read_csv method and print out the top 5 rows to confirm if the load was successful \n",
    "df = pd.read_csv('tmdb-movies.csv')\n",
    "df.head()"
   ]
  },
  {
   "cell_type": "code",
   "execution_count": 3,
   "id": "20c31a0f",
   "metadata": {},
   "outputs": [
    {
     "data": {
      "text/plain": [
       "(10866, 21)"
      ]
     },
     "execution_count": 3,
     "metadata": {},
     "output_type": "execute_result"
    }
   ],
   "source": [
    "# finding out the Dataset shape\n",
    "df.shape"
   ]
  },
  {
   "cell_type": "markdown",
   "id": "dcf1fa8b",
   "metadata": {},
   "source": [
    "The dataset is made up of 10866 Rows and 21 columns"
   ]
  },
  {
   "cell_type": "code",
   "execution_count": 4,
   "id": "f4d3115a",
   "metadata": {},
   "outputs": [
    {
     "name": "stdout",
     "output_type": "stream",
     "text": [
      "<class 'pandas.core.frame.DataFrame'>\n",
      "RangeIndex: 10866 entries, 0 to 10865\n",
      "Data columns (total 21 columns):\n",
      " #   Column                Non-Null Count  Dtype  \n",
      "---  ------                --------------  -----  \n",
      " 0   id                    10866 non-null  int64  \n",
      " 1   imdb_id               10856 non-null  object \n",
      " 2   popularity            10866 non-null  float64\n",
      " 3   budget                10866 non-null  int64  \n",
      " 4   revenue               10866 non-null  int64  \n",
      " 5   original_title        10866 non-null  object \n",
      " 6   cast                  10790 non-null  object \n",
      " 7   homepage              2936 non-null   object \n",
      " 8   director              10822 non-null  object \n",
      " 9   tagline               8042 non-null   object \n",
      " 10  keywords              9373 non-null   object \n",
      " 11  overview              10862 non-null  object \n",
      " 12  runtime               10866 non-null  int64  \n",
      " 13  genres                10843 non-null  object \n",
      " 14  production_companies  9836 non-null   object \n",
      " 15  release_date          10866 non-null  object \n",
      " 16  vote_count            10866 non-null  int64  \n",
      " 17  vote_average          10866 non-null  float64\n",
      " 18  release_year          10866 non-null  int64  \n",
      " 19  budget_adj            10866 non-null  float64\n",
      " 20  revenue_adj           10866 non-null  float64\n",
      "dtypes: float64(4), int64(6), object(11)\n",
      "memory usage: 1.7+ MB\n"
     ]
    }
   ],
   "source": [
    "df.info()"
   ]
  },
  {
   "cell_type": "markdown",
   "id": "686af813",
   "metadata": {},
   "source": [
    "#### Dataset Properties:\n",
    "> This dataset originally comes with 11 Columns that have strings(Objects) as the Dtype. \n",
    "\n",
    "> This dataset originally comes with 6 columns that have integers(int) as the Dtype.\n",
    "\n",
    "> This dataset originally comes with 4 columns that have float as the Dtype.\n",
    "\n",
    "> some columns have missing values in them i.e (null)."
   ]
  },
  {
   "cell_type": "code",
   "execution_count": 5,
   "id": "2e9c2c49",
   "metadata": {},
   "outputs": [
    {
     "data": {
      "text/html": [
       "<div>\n",
       "<style scoped>\n",
       "    .dataframe tbody tr th:only-of-type {\n",
       "        vertical-align: middle;\n",
       "    }\n",
       "\n",
       "    .dataframe tbody tr th {\n",
       "        vertical-align: top;\n",
       "    }\n",
       "\n",
       "    .dataframe thead th {\n",
       "        text-align: right;\n",
       "    }\n",
       "</style>\n",
       "<table border=\"1\" class=\"dataframe\">\n",
       "  <thead>\n",
       "    <tr style=\"text-align: right;\">\n",
       "      <th></th>\n",
       "      <th>id</th>\n",
       "      <th>popularity</th>\n",
       "      <th>budget</th>\n",
       "      <th>revenue</th>\n",
       "      <th>runtime</th>\n",
       "      <th>vote_count</th>\n",
       "      <th>vote_average</th>\n",
       "      <th>release_year</th>\n",
       "      <th>budget_adj</th>\n",
       "      <th>revenue_adj</th>\n",
       "    </tr>\n",
       "  </thead>\n",
       "  <tbody>\n",
       "    <tr>\n",
       "      <th>count</th>\n",
       "      <td>10866.000000</td>\n",
       "      <td>10866.000000</td>\n",
       "      <td>1.086600e+04</td>\n",
       "      <td>1.086600e+04</td>\n",
       "      <td>10866.000000</td>\n",
       "      <td>10866.000000</td>\n",
       "      <td>10866.000000</td>\n",
       "      <td>10866.000000</td>\n",
       "      <td>1.086600e+04</td>\n",
       "      <td>1.086600e+04</td>\n",
       "    </tr>\n",
       "    <tr>\n",
       "      <th>mean</th>\n",
       "      <td>66064.177434</td>\n",
       "      <td>0.646441</td>\n",
       "      <td>1.462570e+07</td>\n",
       "      <td>3.982332e+07</td>\n",
       "      <td>102.070863</td>\n",
       "      <td>217.389748</td>\n",
       "      <td>5.974922</td>\n",
       "      <td>2001.322658</td>\n",
       "      <td>1.755104e+07</td>\n",
       "      <td>5.136436e+07</td>\n",
       "    </tr>\n",
       "    <tr>\n",
       "      <th>std</th>\n",
       "      <td>92130.136561</td>\n",
       "      <td>1.000185</td>\n",
       "      <td>3.091321e+07</td>\n",
       "      <td>1.170035e+08</td>\n",
       "      <td>31.381405</td>\n",
       "      <td>575.619058</td>\n",
       "      <td>0.935142</td>\n",
       "      <td>12.812941</td>\n",
       "      <td>3.430616e+07</td>\n",
       "      <td>1.446325e+08</td>\n",
       "    </tr>\n",
       "    <tr>\n",
       "      <th>min</th>\n",
       "      <td>5.000000</td>\n",
       "      <td>0.000065</td>\n",
       "      <td>0.000000e+00</td>\n",
       "      <td>0.000000e+00</td>\n",
       "      <td>0.000000</td>\n",
       "      <td>10.000000</td>\n",
       "      <td>1.500000</td>\n",
       "      <td>1960.000000</td>\n",
       "      <td>0.000000e+00</td>\n",
       "      <td>0.000000e+00</td>\n",
       "    </tr>\n",
       "    <tr>\n",
       "      <th>25%</th>\n",
       "      <td>10596.250000</td>\n",
       "      <td>0.207583</td>\n",
       "      <td>0.000000e+00</td>\n",
       "      <td>0.000000e+00</td>\n",
       "      <td>90.000000</td>\n",
       "      <td>17.000000</td>\n",
       "      <td>5.400000</td>\n",
       "      <td>1995.000000</td>\n",
       "      <td>0.000000e+00</td>\n",
       "      <td>0.000000e+00</td>\n",
       "    </tr>\n",
       "    <tr>\n",
       "      <th>50%</th>\n",
       "      <td>20669.000000</td>\n",
       "      <td>0.383856</td>\n",
       "      <td>0.000000e+00</td>\n",
       "      <td>0.000000e+00</td>\n",
       "      <td>99.000000</td>\n",
       "      <td>38.000000</td>\n",
       "      <td>6.000000</td>\n",
       "      <td>2006.000000</td>\n",
       "      <td>0.000000e+00</td>\n",
       "      <td>0.000000e+00</td>\n",
       "    </tr>\n",
       "    <tr>\n",
       "      <th>75%</th>\n",
       "      <td>75610.000000</td>\n",
       "      <td>0.713817</td>\n",
       "      <td>1.500000e+07</td>\n",
       "      <td>2.400000e+07</td>\n",
       "      <td>111.000000</td>\n",
       "      <td>145.750000</td>\n",
       "      <td>6.600000</td>\n",
       "      <td>2011.000000</td>\n",
       "      <td>2.085325e+07</td>\n",
       "      <td>3.369710e+07</td>\n",
       "    </tr>\n",
       "    <tr>\n",
       "      <th>max</th>\n",
       "      <td>417859.000000</td>\n",
       "      <td>32.985763</td>\n",
       "      <td>4.250000e+08</td>\n",
       "      <td>2.781506e+09</td>\n",
       "      <td>900.000000</td>\n",
       "      <td>9767.000000</td>\n",
       "      <td>9.200000</td>\n",
       "      <td>2015.000000</td>\n",
       "      <td>4.250000e+08</td>\n",
       "      <td>2.827124e+09</td>\n",
       "    </tr>\n",
       "  </tbody>\n",
       "</table>\n",
       "</div>"
      ],
      "text/plain": [
       "                  id    popularity        budget       revenue       runtime  \\\n",
       "count   10866.000000  10866.000000  1.086600e+04  1.086600e+04  10866.000000   \n",
       "mean    66064.177434      0.646441  1.462570e+07  3.982332e+07    102.070863   \n",
       "std     92130.136561      1.000185  3.091321e+07  1.170035e+08     31.381405   \n",
       "min         5.000000      0.000065  0.000000e+00  0.000000e+00      0.000000   \n",
       "25%     10596.250000      0.207583  0.000000e+00  0.000000e+00     90.000000   \n",
       "50%     20669.000000      0.383856  0.000000e+00  0.000000e+00     99.000000   \n",
       "75%     75610.000000      0.713817  1.500000e+07  2.400000e+07    111.000000   \n",
       "max    417859.000000     32.985763  4.250000e+08  2.781506e+09    900.000000   \n",
       "\n",
       "         vote_count  vote_average  release_year    budget_adj   revenue_adj  \n",
       "count  10866.000000  10866.000000  10866.000000  1.086600e+04  1.086600e+04  \n",
       "mean     217.389748      5.974922   2001.322658  1.755104e+07  5.136436e+07  \n",
       "std      575.619058      0.935142     12.812941  3.430616e+07  1.446325e+08  \n",
       "min       10.000000      1.500000   1960.000000  0.000000e+00  0.000000e+00  \n",
       "25%       17.000000      5.400000   1995.000000  0.000000e+00  0.000000e+00  \n",
       "50%       38.000000      6.000000   2006.000000  0.000000e+00  0.000000e+00  \n",
       "75%      145.750000      6.600000   2011.000000  2.085325e+07  3.369710e+07  \n",
       "max     9767.000000      9.200000   2015.000000  4.250000e+08  2.827124e+09  "
      ]
     },
     "execution_count": 5,
     "metadata": {},
     "output_type": "execute_result"
    }
   ],
   "source": [
    "df.describe()"
   ]
  },
  {
   "cell_type": "markdown",
   "id": "bd612c62",
   "metadata": {},
   "source": [
    "#### Summary of the dataset Descriptive statistics"
   ]
  },
  {
   "cell_type": "markdown",
   "id": "d4d66bb1",
   "metadata": {},
   "source": [
    "### Data Cleaning\n",
    "##### Here the dataset will be assess to identify any problem in the data's quality or structure. Afterwards, the data will be cleaned by modifying, replacing or removing data to ensure that the dataset is of the highest quality & wll-structured.\n",
    "\n"
   ]
  },
  {
   "cell_type": "code",
   "execution_count": 6,
   "id": "16a2a9e6",
   "metadata": {},
   "outputs": [
    {
     "data": {
      "text/plain": [
       "1"
      ]
     },
     "execution_count": 6,
     "metadata": {},
     "output_type": "execute_result"
    }
   ],
   "source": [
    "# Check for Duplicates\n",
    "df.duplicated().sum()"
   ]
  },
  {
   "cell_type": "markdown",
   "id": "65bd7c57",
   "metadata": {},
   "source": [
    "Using the duplicated and sum method on the dataframe, it reveals that there is a row that is being duplicated and this row has to be removed."
   ]
  },
  {
   "cell_type": "code",
   "execution_count": 7,
   "id": "090aa1a4",
   "metadata": {},
   "outputs": [
    {
     "data": {
      "text/html": [
       "<div>\n",
       "<style scoped>\n",
       "    .dataframe tbody tr th:only-of-type {\n",
       "        vertical-align: middle;\n",
       "    }\n",
       "\n",
       "    .dataframe tbody tr th {\n",
       "        vertical-align: top;\n",
       "    }\n",
       "\n",
       "    .dataframe thead th {\n",
       "        text-align: right;\n",
       "    }\n",
       "</style>\n",
       "<table border=\"1\" class=\"dataframe\">\n",
       "  <thead>\n",
       "    <tr style=\"text-align: right;\">\n",
       "      <th></th>\n",
       "      <th>id</th>\n",
       "      <th>imdb_id</th>\n",
       "      <th>popularity</th>\n",
       "      <th>budget</th>\n",
       "      <th>revenue</th>\n",
       "      <th>original_title</th>\n",
       "      <th>cast</th>\n",
       "      <th>homepage</th>\n",
       "      <th>director</th>\n",
       "      <th>tagline</th>\n",
       "      <th>...</th>\n",
       "      <th>overview</th>\n",
       "      <th>runtime</th>\n",
       "      <th>genres</th>\n",
       "      <th>production_companies</th>\n",
       "      <th>release_date</th>\n",
       "      <th>vote_count</th>\n",
       "      <th>vote_average</th>\n",
       "      <th>release_year</th>\n",
       "      <th>budget_adj</th>\n",
       "      <th>revenue_adj</th>\n",
       "    </tr>\n",
       "  </thead>\n",
       "  <tbody>\n",
       "    <tr>\n",
       "      <th>2090</th>\n",
       "      <td>42194</td>\n",
       "      <td>tt0411951</td>\n",
       "      <td>0.59643</td>\n",
       "      <td>30000000</td>\n",
       "      <td>967000</td>\n",
       "      <td>TEKKEN</td>\n",
       "      <td>Jon Foo|Kelly Overton|Cary-Hiroyuki Tagawa|Ian...</td>\n",
       "      <td>NaN</td>\n",
       "      <td>Dwight H. Little</td>\n",
       "      <td>Survival is no game</td>\n",
       "      <td>...</td>\n",
       "      <td>In the year of 2039, after World Wars destroy ...</td>\n",
       "      <td>92</td>\n",
       "      <td>Crime|Drama|Action|Thriller|Science Fiction</td>\n",
       "      <td>Namco|Light Song Films</td>\n",
       "      <td>3/20/10</td>\n",
       "      <td>110</td>\n",
       "      <td>5.0</td>\n",
       "      <td>2010</td>\n",
       "      <td>30000000.0</td>\n",
       "      <td>967000.0</td>\n",
       "    </tr>\n",
       "  </tbody>\n",
       "</table>\n",
       "<p>1 rows × 21 columns</p>\n",
       "</div>"
      ],
      "text/plain": [
       "         id    imdb_id  popularity    budget  revenue original_title  \\\n",
       "2090  42194  tt0411951     0.59643  30000000   967000         TEKKEN   \n",
       "\n",
       "                                                   cast homepage  \\\n",
       "2090  Jon Foo|Kelly Overton|Cary-Hiroyuki Tagawa|Ian...      NaN   \n",
       "\n",
       "              director              tagline  ...  \\\n",
       "2090  Dwight H. Little  Survival is no game  ...   \n",
       "\n",
       "                                               overview runtime  \\\n",
       "2090  In the year of 2039, after World Wars destroy ...      92   \n",
       "\n",
       "                                           genres    production_companies  \\\n",
       "2090  Crime|Drama|Action|Thriller|Science Fiction  Namco|Light Song Films   \n",
       "\n",
       "     release_date vote_count  vote_average  release_year  budget_adj  \\\n",
       "2090      3/20/10        110           5.0          2010  30000000.0   \n",
       "\n",
       "      revenue_adj  \n",
       "2090     967000.0  \n",
       "\n",
       "[1 rows x 21 columns]"
      ]
     },
     "execution_count": 7,
     "metadata": {},
     "output_type": "execute_result"
    }
   ],
   "source": [
    "df[df.duplicated()]"
   ]
  },
  {
   "cell_type": "markdown",
   "id": "b3d5ac93",
   "metadata": {},
   "source": [
    "The duplicated row"
   ]
  },
  {
   "cell_type": "code",
   "execution_count": 8,
   "id": "046abf77",
   "metadata": {},
   "outputs": [
    {
     "data": {
      "text/html": [
       "<div>\n",
       "<style scoped>\n",
       "    .dataframe tbody tr th:only-of-type {\n",
       "        vertical-align: middle;\n",
       "    }\n",
       "\n",
       "    .dataframe tbody tr th {\n",
       "        vertical-align: top;\n",
       "    }\n",
       "\n",
       "    .dataframe thead th {\n",
       "        text-align: right;\n",
       "    }\n",
       "</style>\n",
       "<table border=\"1\" class=\"dataframe\">\n",
       "  <thead>\n",
       "    <tr style=\"text-align: right;\">\n",
       "      <th></th>\n",
       "      <th>id</th>\n",
       "      <th>imdb_id</th>\n",
       "      <th>popularity</th>\n",
       "      <th>budget</th>\n",
       "      <th>revenue</th>\n",
       "      <th>original_title</th>\n",
       "      <th>cast</th>\n",
       "      <th>homepage</th>\n",
       "      <th>director</th>\n",
       "      <th>tagline</th>\n",
       "      <th>...</th>\n",
       "      <th>overview</th>\n",
       "      <th>runtime</th>\n",
       "      <th>genres</th>\n",
       "      <th>production_companies</th>\n",
       "      <th>release_date</th>\n",
       "      <th>vote_count</th>\n",
       "      <th>vote_average</th>\n",
       "      <th>release_year</th>\n",
       "      <th>budget_adj</th>\n",
       "      <th>revenue_adj</th>\n",
       "    </tr>\n",
       "  </thead>\n",
       "  <tbody>\n",
       "    <tr>\n",
       "      <th>2089</th>\n",
       "      <td>42194</td>\n",
       "      <td>tt0411951</td>\n",
       "      <td>0.59643</td>\n",
       "      <td>30000000</td>\n",
       "      <td>967000</td>\n",
       "      <td>TEKKEN</td>\n",
       "      <td>Jon Foo|Kelly Overton|Cary-Hiroyuki Tagawa|Ian...</td>\n",
       "      <td>NaN</td>\n",
       "      <td>Dwight H. Little</td>\n",
       "      <td>Survival is no game</td>\n",
       "      <td>...</td>\n",
       "      <td>In the year of 2039, after World Wars destroy ...</td>\n",
       "      <td>92</td>\n",
       "      <td>Crime|Drama|Action|Thriller|Science Fiction</td>\n",
       "      <td>Namco|Light Song Films</td>\n",
       "      <td>3/20/10</td>\n",
       "      <td>110</td>\n",
       "      <td>5.0</td>\n",
       "      <td>2010</td>\n",
       "      <td>30000000.0</td>\n",
       "      <td>967000.0</td>\n",
       "    </tr>\n",
       "    <tr>\n",
       "      <th>2090</th>\n",
       "      <td>42194</td>\n",
       "      <td>tt0411951</td>\n",
       "      <td>0.59643</td>\n",
       "      <td>30000000</td>\n",
       "      <td>967000</td>\n",
       "      <td>TEKKEN</td>\n",
       "      <td>Jon Foo|Kelly Overton|Cary-Hiroyuki Tagawa|Ian...</td>\n",
       "      <td>NaN</td>\n",
       "      <td>Dwight H. Little</td>\n",
       "      <td>Survival is no game</td>\n",
       "      <td>...</td>\n",
       "      <td>In the year of 2039, after World Wars destroy ...</td>\n",
       "      <td>92</td>\n",
       "      <td>Crime|Drama|Action|Thriller|Science Fiction</td>\n",
       "      <td>Namco|Light Song Films</td>\n",
       "      <td>3/20/10</td>\n",
       "      <td>110</td>\n",
       "      <td>5.0</td>\n",
       "      <td>2010</td>\n",
       "      <td>30000000.0</td>\n",
       "      <td>967000.0</td>\n",
       "    </tr>\n",
       "  </tbody>\n",
       "</table>\n",
       "<p>2 rows × 21 columns</p>\n",
       "</div>"
      ],
      "text/plain": [
       "         id    imdb_id  popularity    budget  revenue original_title  \\\n",
       "2089  42194  tt0411951     0.59643  30000000   967000         TEKKEN   \n",
       "2090  42194  tt0411951     0.59643  30000000   967000         TEKKEN   \n",
       "\n",
       "                                                   cast homepage  \\\n",
       "2089  Jon Foo|Kelly Overton|Cary-Hiroyuki Tagawa|Ian...      NaN   \n",
       "2090  Jon Foo|Kelly Overton|Cary-Hiroyuki Tagawa|Ian...      NaN   \n",
       "\n",
       "              director              tagline  ...  \\\n",
       "2089  Dwight H. Little  Survival is no game  ...   \n",
       "2090  Dwight H. Little  Survival is no game  ...   \n",
       "\n",
       "                                               overview runtime  \\\n",
       "2089  In the year of 2039, after World Wars destroy ...      92   \n",
       "2090  In the year of 2039, after World Wars destroy ...      92   \n",
       "\n",
       "                                           genres    production_companies  \\\n",
       "2089  Crime|Drama|Action|Thriller|Science Fiction  Namco|Light Song Films   \n",
       "2090  Crime|Drama|Action|Thriller|Science Fiction  Namco|Light Song Films   \n",
       "\n",
       "     release_date vote_count  vote_average  release_year  budget_adj  \\\n",
       "2089      3/20/10        110           5.0          2010  30000000.0   \n",
       "2090      3/20/10        110           5.0          2010  30000000.0   \n",
       "\n",
       "      revenue_adj  \n",
       "2089     967000.0  \n",
       "2090     967000.0  \n",
       "\n",
       "[2 rows x 21 columns]"
      ]
     },
     "execution_count": 8,
     "metadata": {},
     "output_type": "execute_result"
    }
   ],
   "source": [
    "#confirm the duplicated rows\n",
    "df.loc[2089:2090, :]"
   ]
  },
  {
   "cell_type": "markdown",
   "id": "efba1462",
   "metadata": {},
   "source": [
    "An evidence of the duplicated rows"
   ]
  },
  {
   "cell_type": "code",
   "execution_count": 9,
   "id": "f1003cd0",
   "metadata": {},
   "outputs": [],
   "source": [
    "# Drop the duplicates\n",
    "df.drop_duplicates(inplace=True)\n"
   ]
  },
  {
   "cell_type": "code",
   "execution_count": 10,
   "id": "063e6bbf",
   "metadata": {},
   "outputs": [
    {
     "data": {
      "text/html": [
       "<div>\n",
       "<style scoped>\n",
       "    .dataframe tbody tr th:only-of-type {\n",
       "        vertical-align: middle;\n",
       "    }\n",
       "\n",
       "    .dataframe tbody tr th {\n",
       "        vertical-align: top;\n",
       "    }\n",
       "\n",
       "    .dataframe thead th {\n",
       "        text-align: right;\n",
       "    }\n",
       "</style>\n",
       "<table border=\"1\" class=\"dataframe\">\n",
       "  <thead>\n",
       "    <tr style=\"text-align: right;\">\n",
       "      <th></th>\n",
       "      <th>id</th>\n",
       "      <th>imdb_id</th>\n",
       "      <th>popularity</th>\n",
       "      <th>budget</th>\n",
       "      <th>revenue</th>\n",
       "      <th>original_title</th>\n",
       "      <th>cast</th>\n",
       "      <th>homepage</th>\n",
       "      <th>director</th>\n",
       "      <th>tagline</th>\n",
       "      <th>...</th>\n",
       "      <th>overview</th>\n",
       "      <th>runtime</th>\n",
       "      <th>genres</th>\n",
       "      <th>production_companies</th>\n",
       "      <th>release_date</th>\n",
       "      <th>vote_count</th>\n",
       "      <th>vote_average</th>\n",
       "      <th>release_year</th>\n",
       "      <th>budget_adj</th>\n",
       "      <th>revenue_adj</th>\n",
       "    </tr>\n",
       "  </thead>\n",
       "  <tbody>\n",
       "    <tr>\n",
       "      <th>2089</th>\n",
       "      <td>42194</td>\n",
       "      <td>tt0411951</td>\n",
       "      <td>0.596430</td>\n",
       "      <td>30000000</td>\n",
       "      <td>967000</td>\n",
       "      <td>TEKKEN</td>\n",
       "      <td>Jon Foo|Kelly Overton|Cary-Hiroyuki Tagawa|Ian...</td>\n",
       "      <td>NaN</td>\n",
       "      <td>Dwight H. Little</td>\n",
       "      <td>Survival is no game</td>\n",
       "      <td>...</td>\n",
       "      <td>In the year of 2039, after World Wars destroy ...</td>\n",
       "      <td>92</td>\n",
       "      <td>Crime|Drama|Action|Thriller|Science Fiction</td>\n",
       "      <td>Namco|Light Song Films</td>\n",
       "      <td>3/20/10</td>\n",
       "      <td>110</td>\n",
       "      <td>5.0</td>\n",
       "      <td>2010</td>\n",
       "      <td>30000000.0</td>\n",
       "      <td>967000.0</td>\n",
       "    </tr>\n",
       "    <tr>\n",
       "      <th>2091</th>\n",
       "      <td>60309</td>\n",
       "      <td>tt0968264</td>\n",
       "      <td>0.591206</td>\n",
       "      <td>25000000</td>\n",
       "      <td>15478800</td>\n",
       "      <td>The Conspirator</td>\n",
       "      <td>Evan Rachel Wood|James McAvoy|Kevin Kline|Robi...</td>\n",
       "      <td>http://www.conspiratorthemovie.com/</td>\n",
       "      <td>Robert Redford</td>\n",
       "      <td>One bullet killed the President. But not one man.</td>\n",
       "      <td>...</td>\n",
       "      <td>Mary Surratt is the lone female charged as a c...</td>\n",
       "      <td>122</td>\n",
       "      <td>Crime|Drama|History</td>\n",
       "      <td>Wildwood Enterprises|American Film Company</td>\n",
       "      <td>9/10/10</td>\n",
       "      <td>78</td>\n",
       "      <td>5.9</td>\n",
       "      <td>2010</td>\n",
       "      <td>25000000.0</td>\n",
       "      <td>15478800.0</td>\n",
       "    </tr>\n",
       "  </tbody>\n",
       "</table>\n",
       "<p>2 rows × 21 columns</p>\n",
       "</div>"
      ],
      "text/plain": [
       "         id    imdb_id  popularity    budget   revenue   original_title  \\\n",
       "2089  42194  tt0411951    0.596430  30000000    967000           TEKKEN   \n",
       "2091  60309  tt0968264    0.591206  25000000  15478800  The Conspirator   \n",
       "\n",
       "                                                   cast  \\\n",
       "2089  Jon Foo|Kelly Overton|Cary-Hiroyuki Tagawa|Ian...   \n",
       "2091  Evan Rachel Wood|James McAvoy|Kevin Kline|Robi...   \n",
       "\n",
       "                                 homepage          director  \\\n",
       "2089                                  NaN  Dwight H. Little   \n",
       "2091  http://www.conspiratorthemovie.com/    Robert Redford   \n",
       "\n",
       "                                                tagline  ...  \\\n",
       "2089                                Survival is no game  ...   \n",
       "2091  One bullet killed the President. But not one man.  ...   \n",
       "\n",
       "                                               overview runtime  \\\n",
       "2089  In the year of 2039, after World Wars destroy ...      92   \n",
       "2091  Mary Surratt is the lone female charged as a c...     122   \n",
       "\n",
       "                                           genres  \\\n",
       "2089  Crime|Drama|Action|Thriller|Science Fiction   \n",
       "2091                          Crime|Drama|History   \n",
       "\n",
       "                            production_companies release_date vote_count  \\\n",
       "2089                      Namco|Light Song Films      3/20/10        110   \n",
       "2091  Wildwood Enterprises|American Film Company      9/10/10         78   \n",
       "\n",
       "      vote_average  release_year  budget_adj  revenue_adj  \n",
       "2089           5.0          2010  30000000.0     967000.0  \n",
       "2091           5.9          2010  25000000.0   15478800.0  \n",
       "\n",
       "[2 rows x 21 columns]"
      ]
     },
     "execution_count": 10,
     "metadata": {},
     "output_type": "execute_result"
    }
   ],
   "source": [
    "df.loc[2089:2091, :]"
   ]
  },
  {
   "cell_type": "markdown",
   "id": "f3e0ac50",
   "metadata": {},
   "source": [
    "The Duplicated Row is being dropped and it is checked to confirm."
   ]
  },
  {
   "cell_type": "code",
   "execution_count": 11,
   "id": "c68fc4cd",
   "metadata": {},
   "outputs": [],
   "source": [
    "#convert the release_date column to the right dtype (datetime)\n",
    "df.release_date = pd.to_datetime(df.release_date)"
   ]
  },
  {
   "cell_type": "code",
   "execution_count": 12,
   "id": "53409916",
   "metadata": {},
   "outputs": [
    {
     "data": {
      "text/plain": [
       "id                               int64\n",
       "imdb_id                         object\n",
       "popularity                     float64\n",
       "budget                           int64\n",
       "revenue                          int64\n",
       "original_title                  object\n",
       "cast                            object\n",
       "homepage                        object\n",
       "director                        object\n",
       "tagline                         object\n",
       "keywords                        object\n",
       "overview                        object\n",
       "runtime                          int64\n",
       "genres                          object\n",
       "production_companies            object\n",
       "release_date            datetime64[ns]\n",
       "vote_count                       int64\n",
       "vote_average                   float64\n",
       "release_year                     int64\n",
       "budget_adj                     float64\n",
       "revenue_adj                    float64\n",
       "dtype: object"
      ]
     },
     "execution_count": 12,
     "metadata": {},
     "output_type": "execute_result"
    }
   ],
   "source": [
    "df.dtypes"
   ]
  },
  {
   "cell_type": "markdown",
   "id": "e836955a",
   "metadata": {},
   "source": [
    "The release_date column is converted to the right dtype"
   ]
  },
  {
   "cell_type": "code",
   "execution_count": 13,
   "id": "5aba921a",
   "metadata": {},
   "outputs": [
    {
     "data": {
      "text/plain": [
       "id                         0\n",
       "imdb_id                   10\n",
       "popularity                 0\n",
       "budget                     0\n",
       "revenue                    0\n",
       "original_title             0\n",
       "cast                      76\n",
       "homepage                7929\n",
       "director                  44\n",
       "tagline                 2824\n",
       "keywords                1493\n",
       "overview                   4\n",
       "runtime                    0\n",
       "genres                    23\n",
       "production_companies    1030\n",
       "release_date               0\n",
       "vote_count                 0\n",
       "vote_average               0\n",
       "release_year               0\n",
       "budget_adj                 0\n",
       "revenue_adj                0\n",
       "dtype: int64"
      ]
     },
     "execution_count": 13,
     "metadata": {},
     "output_type": "execute_result"
    }
   ],
   "source": [
    "# Check for null values\n",
    "df.isnull().sum()"
   ]
  },
  {
   "cell_type": "markdown",
   "id": "01ed7466",
   "metadata": {},
   "source": [
    "#### Checking for Null values\n",
    "> the columns with null values in them are (imdb_id, cast, hompage, director, tagline, keywords, overview, runtime, genres,\n",
    "                                            production_companies)."
   ]
  },
  {
   "cell_type": "markdown",
   "id": "4987305b",
   "metadata": {},
   "source": [
    "#### Dropping Null values\n",
    "##### There is no optimal way to treat missing values, we can only do the following depending on the characteristics of dataframe and the task\n",
    "> Removing unnecessary columns not relevent for our analysis.\n",
    "\n",
    "> Remove missing values.\n",
    "\n",
    "> Replacing the missing values."
   ]
  },
  {
   "cell_type": "code",
   "execution_count": 14,
   "id": "80b819ea",
   "metadata": {},
   "outputs": [],
   "source": [
    "# Drop unnecessary columns\n",
    "drop_col = ['overview', 'keywords', 'tagline', 'homepage','imdb_id']\n",
    "df.drop(drop_col, axis=1, inplace=True)\n",
    "df.drop(['production_companies'], axis=1, inplace=True)"
   ]
  },
  {
   "cell_type": "code",
   "execution_count": 15,
   "id": "e1a39cdf",
   "metadata": {},
   "outputs": [
    {
     "data": {
      "text/plain": [
       "id                 0\n",
       "popularity         0\n",
       "budget             0\n",
       "revenue            0\n",
       "original_title     0\n",
       "cast              76\n",
       "director          44\n",
       "runtime            0\n",
       "genres            23\n",
       "release_date       0\n",
       "vote_count         0\n",
       "vote_average       0\n",
       "release_year       0\n",
       "budget_adj         0\n",
       "revenue_adj        0\n",
       "dtype: int64"
      ]
     },
     "execution_count": 15,
     "metadata": {},
     "output_type": "execute_result"
    }
   ],
   "source": [
    "df.isnull().sum()"
   ]
  },
  {
   "cell_type": "markdown",
   "id": "6b41b183",
   "metadata": {},
   "source": [
    "After dropping some uncessary columns, there are 3 columns left with null values in them"
   ]
  },
  {
   "cell_type": "code",
   "execution_count": 16,
   "id": "9b4f13d0",
   "metadata": {},
   "outputs": [
    {
     "data": {
      "text/plain": [
       "id                 0\n",
       "popularity         0\n",
       "budget             0\n",
       "revenue            0\n",
       "original_title     0\n",
       "cast              76\n",
       "director          44\n",
       "runtime            0\n",
       "genres            23\n",
       "release_date       0\n",
       "vote_count         0\n",
       "vote_average       0\n",
       "release_year       0\n",
       "budget_adj         0\n",
       "revenue_adj        0\n",
       "dtype: int64"
      ]
     },
     "execution_count": 16,
     "metadata": {},
     "output_type": "execute_result"
    }
   ],
   "source": [
    "# dropping rows with more than 3 missing values\n",
    "df.dropna(axis=0, thresh=3, inplace=True)\n",
    "df.isnull().sum()"
   ]
  },
  {
   "cell_type": "markdown",
   "id": "090feb10",
   "metadata": {},
   "source": [
    "we try to drop rows with more than 3 missing values but there was none"
   ]
  },
  {
   "cell_type": "code",
   "execution_count": 17,
   "id": "0176e3ef",
   "metadata": {},
   "outputs": [
    {
     "data": {
      "text/html": [
       "<div>\n",
       "<style scoped>\n",
       "    .dataframe tbody tr th:only-of-type {\n",
       "        vertical-align: middle;\n",
       "    }\n",
       "\n",
       "    .dataframe tbody tr th {\n",
       "        vertical-align: top;\n",
       "    }\n",
       "\n",
       "    .dataframe thead th {\n",
       "        text-align: right;\n",
       "    }\n",
       "</style>\n",
       "<table border=\"1\" class=\"dataframe\">\n",
       "  <thead>\n",
       "    <tr style=\"text-align: right;\">\n",
       "      <th></th>\n",
       "      <th>id</th>\n",
       "      <th>popularity</th>\n",
       "      <th>budget</th>\n",
       "      <th>revenue</th>\n",
       "      <th>original_title</th>\n",
       "      <th>cast</th>\n",
       "      <th>director</th>\n",
       "      <th>runtime</th>\n",
       "      <th>genres</th>\n",
       "      <th>release_date</th>\n",
       "      <th>vote_count</th>\n",
       "      <th>vote_average</th>\n",
       "      <th>release_year</th>\n",
       "      <th>budget_adj</th>\n",
       "      <th>revenue_adj</th>\n",
       "    </tr>\n",
       "  </thead>\n",
       "  <tbody>\n",
       "    <tr>\n",
       "      <th>9719</th>\n",
       "      <td>62</td>\n",
       "      <td>3.309196</td>\n",
       "      <td>12000000</td>\n",
       "      <td>56715371</td>\n",
       "      <td>2001: A Space Odyssey</td>\n",
       "      <td>Keir Dullea|Douglas Rain|Gary Lockwood|William...</td>\n",
       "      <td>Stanley Kubrick</td>\n",
       "      <td>149</td>\n",
       "      <td>Science Fiction|Mystery|Adventure</td>\n",
       "      <td>2068-04-05</td>\n",
       "      <td>1708</td>\n",
       "      <td>7.7</td>\n",
       "      <td>1968</td>\n",
       "      <td>7.522756e+07</td>\n",
       "      <td>3.555466e+08</td>\n",
       "    </tr>\n",
       "    <tr>\n",
       "      <th>9720</th>\n",
       "      <td>871</td>\n",
       "      <td>1.152937</td>\n",
       "      <td>5800000</td>\n",
       "      <td>33395426</td>\n",
       "      <td>Planet of the Apes</td>\n",
       "      <td>Charlton Heston|Roddy McDowall|Kim Hunter|Maur...</td>\n",
       "      <td>Franklin J. Schaffner</td>\n",
       "      <td>112</td>\n",
       "      <td>Adventure|Science Fiction|Mystery</td>\n",
       "      <td>2068-02-07</td>\n",
       "      <td>469</td>\n",
       "      <td>7.2</td>\n",
       "      <td>1968</td>\n",
       "      <td>3.635999e+07</td>\n",
       "      <td>2.093547e+08</td>\n",
       "    </tr>\n",
       "    <tr>\n",
       "      <th>9721</th>\n",
       "      <td>10331</td>\n",
       "      <td>1.058272</td>\n",
       "      <td>114000</td>\n",
       "      <td>0</td>\n",
       "      <td>Night of the Living Dead</td>\n",
       "      <td>Duane Jones|Judith O'Dea|Karl Hardman|Marilyn ...</td>\n",
       "      <td>George A. Romero</td>\n",
       "      <td>96</td>\n",
       "      <td>Horror</td>\n",
       "      <td>2068-10-01</td>\n",
       "      <td>279</td>\n",
       "      <td>7.2</td>\n",
       "      <td>1968</td>\n",
       "      <td>7.146619e+05</td>\n",
       "      <td>0.000000e+00</td>\n",
       "    </tr>\n",
       "    <tr>\n",
       "      <th>9722</th>\n",
       "      <td>26690</td>\n",
       "      <td>0.891163</td>\n",
       "      <td>0</td>\n",
       "      <td>0</td>\n",
       "      <td>The Boston Strangler</td>\n",
       "      <td>Tony Curtis|Henry Fonda|George Kennedy|Mike Ke...</td>\n",
       "      <td>Richard Fleischer</td>\n",
       "      <td>116</td>\n",
       "      <td>Crime|Drama|Mystery|Thriller</td>\n",
       "      <td>2068-10-08</td>\n",
       "      <td>15</td>\n",
       "      <td>6.6</td>\n",
       "      <td>1968</td>\n",
       "      <td>0.000000e+00</td>\n",
       "      <td>0.000000e+00</td>\n",
       "    </tr>\n",
       "    <tr>\n",
       "      <th>9723</th>\n",
       "      <td>8069</td>\n",
       "      <td>0.867192</td>\n",
       "      <td>0</td>\n",
       "      <td>0</td>\n",
       "      <td>Barbarella</td>\n",
       "      <td>Jane Fonda|John Phillip Law|Anita Pallenberg|M...</td>\n",
       "      <td>Roger Vadim</td>\n",
       "      <td>98</td>\n",
       "      <td>Science Fiction</td>\n",
       "      <td>2068-10-10</td>\n",
       "      <td>63</td>\n",
       "      <td>5.4</td>\n",
       "      <td>1968</td>\n",
       "      <td>0.000000e+00</td>\n",
       "      <td>0.000000e+00</td>\n",
       "    </tr>\n",
       "  </tbody>\n",
       "</table>\n",
       "</div>"
      ],
      "text/plain": [
       "         id  popularity    budget   revenue            original_title  \\\n",
       "9719     62    3.309196  12000000  56715371     2001: A Space Odyssey   \n",
       "9720    871    1.152937   5800000  33395426        Planet of the Apes   \n",
       "9721  10331    1.058272    114000         0  Night of the Living Dead   \n",
       "9722  26690    0.891163         0         0      The Boston Strangler   \n",
       "9723   8069    0.867192         0         0                Barbarella   \n",
       "\n",
       "                                                   cast  \\\n",
       "9719  Keir Dullea|Douglas Rain|Gary Lockwood|William...   \n",
       "9720  Charlton Heston|Roddy McDowall|Kim Hunter|Maur...   \n",
       "9721  Duane Jones|Judith O'Dea|Karl Hardman|Marilyn ...   \n",
       "9722  Tony Curtis|Henry Fonda|George Kennedy|Mike Ke...   \n",
       "9723  Jane Fonda|John Phillip Law|Anita Pallenberg|M...   \n",
       "\n",
       "                   director  runtime                             genres  \\\n",
       "9719        Stanley Kubrick      149  Science Fiction|Mystery|Adventure   \n",
       "9720  Franklin J. Schaffner      112  Adventure|Science Fiction|Mystery   \n",
       "9721       George A. Romero       96                             Horror   \n",
       "9722      Richard Fleischer      116       Crime|Drama|Mystery|Thriller   \n",
       "9723            Roger Vadim       98                    Science Fiction   \n",
       "\n",
       "     release_date  vote_count  vote_average  release_year    budget_adj  \\\n",
       "9719   2068-04-05        1708           7.7          1968  7.522756e+07   \n",
       "9720   2068-02-07         469           7.2          1968  3.635999e+07   \n",
       "9721   2068-10-01         279           7.2          1968  7.146619e+05   \n",
       "9722   2068-10-08          15           6.6          1968  0.000000e+00   \n",
       "9723   2068-10-10          63           5.4          1968  0.000000e+00   \n",
       "\n",
       "       revenue_adj  \n",
       "9719  3.555466e+08  \n",
       "9720  2.093547e+08  \n",
       "9721  0.000000e+00  \n",
       "9722  0.000000e+00  \n",
       "9723  0.000000e+00  "
      ]
     },
     "execution_count": 17,
     "metadata": {},
     "output_type": "execute_result"
    }
   ],
   "source": [
    "# check if there are dates that are invalid\n",
    "wrong_release_date = df.query('release_date > \"2015-12-31\"')\n",
    "wrong_release_date.head()"
   ]
  },
  {
   "cell_type": "markdown",
   "id": "fe31ac36",
   "metadata": {},
   "source": [
    "There are rows with Dates in the ['release_date'] columns that are not valid, it is ideal that we drop those rows"
   ]
  },
  {
   "cell_type": "code",
   "execution_count": 18,
   "id": "3dc90b51",
   "metadata": {},
   "outputs": [],
   "source": [
    "# we drop these invalid dates\n",
    "df.drop(wrong_release_date.index, axis=0, inplace=True)"
   ]
  },
  {
   "cell_type": "code",
   "execution_count": 19,
   "id": "f43bdf74",
   "metadata": {},
   "outputs": [
    {
     "data": {
      "text/plain": [
       "id                0\n",
       "popularity        0\n",
       "budget            0\n",
       "revenue           0\n",
       "original_title    0\n",
       "cast              0\n",
       "director          0\n",
       "runtime           0\n",
       "genres            0\n",
       "release_date      0\n",
       "vote_count        0\n",
       "vote_average      0\n",
       "release_year      0\n",
       "budget_adj        0\n",
       "revenue_adj       0\n",
       "dtype: int64"
      ]
     },
     "execution_count": 19,
     "metadata": {},
     "output_type": "execute_result"
    }
   ],
   "source": [
    "# drop null values in the specified columns\n",
    "df.dropna(subset=['genres', 'cast', 'director'], inplace=True)\n",
    "\n",
    "# check to confirm if all null values are dropped\n",
    "df.isnull().sum()"
   ]
  },
  {
   "cell_type": "markdown",
   "id": "754b6f2f",
   "metadata": {},
   "source": [
    "All null values successfully removed"
   ]
  },
  {
   "cell_type": "markdown",
   "id": "32f9ee53",
   "metadata": {},
   "source": [
    "#### Spliting values\n",
    "> **Here**: there are values or characters which are delimeted with pipes (|) in the genres, we have to split thsese characters  and assigned to them seperate rows in-order to analyze them individually. "
   ]
  },
  {
   "cell_type": "code",
   "execution_count": 20,
   "id": "9934287c",
   "metadata": {
    "scrolled": true
   },
   "outputs": [
    {
     "data": {
      "text/html": [
       "<div>\n",
       "<style scoped>\n",
       "    .dataframe tbody tr th:only-of-type {\n",
       "        vertical-align: middle;\n",
       "    }\n",
       "\n",
       "    .dataframe tbody tr th {\n",
       "        vertical-align: top;\n",
       "    }\n",
       "\n",
       "    .dataframe thead th {\n",
       "        text-align: right;\n",
       "    }\n",
       "</style>\n",
       "<table border=\"1\" class=\"dataframe\">\n",
       "  <thead>\n",
       "    <tr style=\"text-align: right;\">\n",
       "      <th></th>\n",
       "      <th>id</th>\n",
       "      <th>popularity</th>\n",
       "      <th>budget</th>\n",
       "      <th>revenue</th>\n",
       "      <th>original_title</th>\n",
       "      <th>cast</th>\n",
       "      <th>director</th>\n",
       "      <th>runtime</th>\n",
       "      <th>genres</th>\n",
       "      <th>release_date</th>\n",
       "      <th>vote_count</th>\n",
       "      <th>vote_average</th>\n",
       "      <th>release_year</th>\n",
       "      <th>budget_adj</th>\n",
       "      <th>revenue_adj</th>\n",
       "    </tr>\n",
       "  </thead>\n",
       "  <tbody>\n",
       "    <tr>\n",
       "      <th>0</th>\n",
       "      <td>135397</td>\n",
       "      <td>32.985763</td>\n",
       "      <td>150000000</td>\n",
       "      <td>1513528810</td>\n",
       "      <td>Jurassic World</td>\n",
       "      <td>Chris Pratt|Bryce Dallas Howard|Irrfan Khan|Vi...</td>\n",
       "      <td>Colin Trevorrow</td>\n",
       "      <td>124</td>\n",
       "      <td>Action</td>\n",
       "      <td>2015-06-09</td>\n",
       "      <td>5562</td>\n",
       "      <td>6.5</td>\n",
       "      <td>2015</td>\n",
       "      <td>1.379999e+08</td>\n",
       "      <td>1.392446e+09</td>\n",
       "    </tr>\n",
       "    <tr>\n",
       "      <th>0</th>\n",
       "      <td>135397</td>\n",
       "      <td>32.985763</td>\n",
       "      <td>150000000</td>\n",
       "      <td>1513528810</td>\n",
       "      <td>Jurassic World</td>\n",
       "      <td>Chris Pratt|Bryce Dallas Howard|Irrfan Khan|Vi...</td>\n",
       "      <td>Colin Trevorrow</td>\n",
       "      <td>124</td>\n",
       "      <td>Adventure</td>\n",
       "      <td>2015-06-09</td>\n",
       "      <td>5562</td>\n",
       "      <td>6.5</td>\n",
       "      <td>2015</td>\n",
       "      <td>1.379999e+08</td>\n",
       "      <td>1.392446e+09</td>\n",
       "    </tr>\n",
       "    <tr>\n",
       "      <th>0</th>\n",
       "      <td>135397</td>\n",
       "      <td>32.985763</td>\n",
       "      <td>150000000</td>\n",
       "      <td>1513528810</td>\n",
       "      <td>Jurassic World</td>\n",
       "      <td>Chris Pratt|Bryce Dallas Howard|Irrfan Khan|Vi...</td>\n",
       "      <td>Colin Trevorrow</td>\n",
       "      <td>124</td>\n",
       "      <td>Science Fiction</td>\n",
       "      <td>2015-06-09</td>\n",
       "      <td>5562</td>\n",
       "      <td>6.5</td>\n",
       "      <td>2015</td>\n",
       "      <td>1.379999e+08</td>\n",
       "      <td>1.392446e+09</td>\n",
       "    </tr>\n",
       "    <tr>\n",
       "      <th>0</th>\n",
       "      <td>135397</td>\n",
       "      <td>32.985763</td>\n",
       "      <td>150000000</td>\n",
       "      <td>1513528810</td>\n",
       "      <td>Jurassic World</td>\n",
       "      <td>Chris Pratt|Bryce Dallas Howard|Irrfan Khan|Vi...</td>\n",
       "      <td>Colin Trevorrow</td>\n",
       "      <td>124</td>\n",
       "      <td>Thriller</td>\n",
       "      <td>2015-06-09</td>\n",
       "      <td>5562</td>\n",
       "      <td>6.5</td>\n",
       "      <td>2015</td>\n",
       "      <td>1.379999e+08</td>\n",
       "      <td>1.392446e+09</td>\n",
       "    </tr>\n",
       "    <tr>\n",
       "      <th>1</th>\n",
       "      <td>76341</td>\n",
       "      <td>28.419936</td>\n",
       "      <td>150000000</td>\n",
       "      <td>378436354</td>\n",
       "      <td>Mad Max: Fury Road</td>\n",
       "      <td>Tom Hardy|Charlize Theron|Hugh Keays-Byrne|Nic...</td>\n",
       "      <td>George Miller</td>\n",
       "      <td>120</td>\n",
       "      <td>Action</td>\n",
       "      <td>2015-05-13</td>\n",
       "      <td>6185</td>\n",
       "      <td>7.1</td>\n",
       "      <td>2015</td>\n",
       "      <td>1.379999e+08</td>\n",
       "      <td>3.481613e+08</td>\n",
       "    </tr>\n",
       "    <tr>\n",
       "      <th>...</th>\n",
       "      <td>...</td>\n",
       "      <td>...</td>\n",
       "      <td>...</td>\n",
       "      <td>...</td>\n",
       "      <td>...</td>\n",
       "      <td>...</td>\n",
       "      <td>...</td>\n",
       "      <td>...</td>\n",
       "      <td>...</td>\n",
       "      <td>...</td>\n",
       "      <td>...</td>\n",
       "      <td>...</td>\n",
       "      <td>...</td>\n",
       "      <td>...</td>\n",
       "      <td>...</td>\n",
       "    </tr>\n",
       "    <tr>\n",
       "      <th>10818</th>\n",
       "      <td>39995</td>\n",
       "      <td>0.047645</td>\n",
       "      <td>0</td>\n",
       "      <td>0</td>\n",
       "      <td>Long Weekend</td>\n",
       "      <td>John Hargreaves|Briony Behets|Mike McEwen|Roy ...</td>\n",
       "      <td>Colin Eggleston</td>\n",
       "      <td>92</td>\n",
       "      <td>Horror</td>\n",
       "      <td>1978-10-14</td>\n",
       "      <td>17</td>\n",
       "      <td>6.1</td>\n",
       "      <td>1978</td>\n",
       "      <td>0.000000e+00</td>\n",
       "      <td>0.000000e+00</td>\n",
       "    </tr>\n",
       "    <tr>\n",
       "      <th>10818</th>\n",
       "      <td>39995</td>\n",
       "      <td>0.047645</td>\n",
       "      <td>0</td>\n",
       "      <td>0</td>\n",
       "      <td>Long Weekend</td>\n",
       "      <td>John Hargreaves|Briony Behets|Mike McEwen|Roy ...</td>\n",
       "      <td>Colin Eggleston</td>\n",
       "      <td>92</td>\n",
       "      <td>Thriller</td>\n",
       "      <td>1978-10-14</td>\n",
       "      <td>17</td>\n",
       "      <td>6.1</td>\n",
       "      <td>1978</td>\n",
       "      <td>0.000000e+00</td>\n",
       "      <td>0.000000e+00</td>\n",
       "    </tr>\n",
       "    <tr>\n",
       "      <th>10818</th>\n",
       "      <td>39995</td>\n",
       "      <td>0.047645</td>\n",
       "      <td>0</td>\n",
       "      <td>0</td>\n",
       "      <td>Long Weekend</td>\n",
       "      <td>John Hargreaves|Briony Behets|Mike McEwen|Roy ...</td>\n",
       "      <td>Colin Eggleston</td>\n",
       "      <td>92</td>\n",
       "      <td>Mystery</td>\n",
       "      <td>1978-10-14</td>\n",
       "      <td>17</td>\n",
       "      <td>6.1</td>\n",
       "      <td>1978</td>\n",
       "      <td>0.000000e+00</td>\n",
       "      <td>0.000000e+00</td>\n",
       "    </tr>\n",
       "    <tr>\n",
       "      <th>10819</th>\n",
       "      <td>16214</td>\n",
       "      <td>0.044675</td>\n",
       "      <td>0</td>\n",
       "      <td>78000000</td>\n",
       "      <td>Hooper</td>\n",
       "      <td>Burt Reynolds|Robert Klein|Adam West|Jan-Micha...</td>\n",
       "      <td>Hal Needham</td>\n",
       "      <td>107</td>\n",
       "      <td>Action</td>\n",
       "      <td>1978-07-28</td>\n",
       "      <td>13</td>\n",
       "      <td>6.0</td>\n",
       "      <td>1978</td>\n",
       "      <td>0.000000e+00</td>\n",
       "      <td>2.607307e+08</td>\n",
       "    </tr>\n",
       "    <tr>\n",
       "      <th>10819</th>\n",
       "      <td>16214</td>\n",
       "      <td>0.044675</td>\n",
       "      <td>0</td>\n",
       "      <td>78000000</td>\n",
       "      <td>Hooper</td>\n",
       "      <td>Burt Reynolds|Robert Klein|Adam West|Jan-Micha...</td>\n",
       "      <td>Hal Needham</td>\n",
       "      <td>107</td>\n",
       "      <td>Comedy</td>\n",
       "      <td>1978-07-28</td>\n",
       "      <td>13</td>\n",
       "      <td>6.0</td>\n",
       "      <td>1978</td>\n",
       "      <td>0.000000e+00</td>\n",
       "      <td>2.607307e+08</td>\n",
       "    </tr>\n",
       "  </tbody>\n",
       "</table>\n",
       "<p>25602 rows × 15 columns</p>\n",
       "</div>"
      ],
      "text/plain": [
       "           id  popularity     budget     revenue      original_title  \\\n",
       "0      135397   32.985763  150000000  1513528810      Jurassic World   \n",
       "0      135397   32.985763  150000000  1513528810      Jurassic World   \n",
       "0      135397   32.985763  150000000  1513528810      Jurassic World   \n",
       "0      135397   32.985763  150000000  1513528810      Jurassic World   \n",
       "1       76341   28.419936  150000000   378436354  Mad Max: Fury Road   \n",
       "...       ...         ...        ...         ...                 ...   \n",
       "10818   39995    0.047645          0           0        Long Weekend   \n",
       "10818   39995    0.047645          0           0        Long Weekend   \n",
       "10818   39995    0.047645          0           0        Long Weekend   \n",
       "10819   16214    0.044675          0    78000000              Hooper   \n",
       "10819   16214    0.044675          0    78000000              Hooper   \n",
       "\n",
       "                                                    cast         director  \\\n",
       "0      Chris Pratt|Bryce Dallas Howard|Irrfan Khan|Vi...  Colin Trevorrow   \n",
       "0      Chris Pratt|Bryce Dallas Howard|Irrfan Khan|Vi...  Colin Trevorrow   \n",
       "0      Chris Pratt|Bryce Dallas Howard|Irrfan Khan|Vi...  Colin Trevorrow   \n",
       "0      Chris Pratt|Bryce Dallas Howard|Irrfan Khan|Vi...  Colin Trevorrow   \n",
       "1      Tom Hardy|Charlize Theron|Hugh Keays-Byrne|Nic...    George Miller   \n",
       "...                                                  ...              ...   \n",
       "10818  John Hargreaves|Briony Behets|Mike McEwen|Roy ...  Colin Eggleston   \n",
       "10818  John Hargreaves|Briony Behets|Mike McEwen|Roy ...  Colin Eggleston   \n",
       "10818  John Hargreaves|Briony Behets|Mike McEwen|Roy ...  Colin Eggleston   \n",
       "10819  Burt Reynolds|Robert Klein|Adam West|Jan-Micha...      Hal Needham   \n",
       "10819  Burt Reynolds|Robert Klein|Adam West|Jan-Micha...      Hal Needham   \n",
       "\n",
       "       runtime           genres release_date  vote_count  vote_average  \\\n",
       "0          124           Action   2015-06-09        5562           6.5   \n",
       "0          124        Adventure   2015-06-09        5562           6.5   \n",
       "0          124  Science Fiction   2015-06-09        5562           6.5   \n",
       "0          124         Thriller   2015-06-09        5562           6.5   \n",
       "1          120           Action   2015-05-13        6185           7.1   \n",
       "...        ...              ...          ...         ...           ...   \n",
       "10818       92           Horror   1978-10-14          17           6.1   \n",
       "10818       92         Thriller   1978-10-14          17           6.1   \n",
       "10818       92          Mystery   1978-10-14          17           6.1   \n",
       "10819      107           Action   1978-07-28          13           6.0   \n",
       "10819      107           Comedy   1978-07-28          13           6.0   \n",
       "\n",
       "       release_year    budget_adj   revenue_adj  \n",
       "0              2015  1.379999e+08  1.392446e+09  \n",
       "0              2015  1.379999e+08  1.392446e+09  \n",
       "0              2015  1.379999e+08  1.392446e+09  \n",
       "0              2015  1.379999e+08  1.392446e+09  \n",
       "1              2015  1.379999e+08  3.481613e+08  \n",
       "...             ...           ...           ...  \n",
       "10818          1978  0.000000e+00  0.000000e+00  \n",
       "10818          1978  0.000000e+00  0.000000e+00  \n",
       "10818          1978  0.000000e+00  0.000000e+00  \n",
       "10819          1978  0.000000e+00  2.607307e+08  \n",
       "10819          1978  0.000000e+00  2.607307e+08  \n",
       "\n",
       "[25602 rows x 15 columns]"
      ]
     },
     "execution_count": 20,
     "metadata": {},
     "output_type": "execute_result"
    }
   ],
   "source": [
    "# split the values in the genres column\n",
    "df.genres = df.genres.str.split(\"|\")\n",
    "\n",
    "# creating new rows for the splitted values\n",
    "df = df.explode(\"genres\")\n",
    "\n",
    "# verify \n",
    "df"
   ]
  },
  {
   "cell_type": "markdown",
   "id": "c72fcd39",
   "metadata": {},
   "source": [
    "Each genres are successfully splitted into seperate columns"
   ]
  },
  {
   "cell_type": "markdown",
   "id": "79bece51",
   "metadata": {},
   "source": [
    "## Exploratory Data Analysis"
   ]
  },
  {
   "cell_type": "markdown",
   "id": "00825c57",
   "metadata": {},
   "source": [
    "#### Q1. What type of genre has the highest movie budget over the years? (Top 5)"
   ]
  },
  {
   "cell_type": "code",
   "execution_count": 21,
   "id": "caa22f1f",
   "metadata": {},
   "outputs": [
    {
     "data": {
      "text/plain": [
       "genres\n",
       "Action             65777453609\n",
       "Adventure          54925759768\n",
       "Animation          16153922143\n",
       "Comedy             50261612068\n",
       "Crime              23837893762\n",
       "Documentary          280061440\n",
       "Drama              56061562367\n",
       "Family             28634201565\n",
       "Fantasy            29809378053\n",
       "Foreign              240439640\n",
       "History             5996643047\n",
       "Horror             10183494870\n",
       "Music               3761960040\n",
       "Mystery            12998550090\n",
       "Romance            21282422277\n",
       "Science Fiction    30640977564\n",
       "TV Movie              44700000\n",
       "Thriller           49894111563\n",
       "War                 5475764133\n",
       "Western             3057238783\n",
       "Name: budget, dtype: int64"
      ]
     },
     "execution_count": 21,
     "metadata": {},
     "output_type": "execute_result"
    }
   ],
   "source": [
    "df.groupby(['genres'])['budget'].sum()"
   ]
  },
  {
   "cell_type": "code",
   "execution_count": 22,
   "id": "0dcfafc5",
   "metadata": {},
   "outputs": [
    {
     "data": {
      "text/plain": [
       "genres\n",
       "Action       65777453609\n",
       "Drama        56061562367\n",
       "Adventure    54925759768\n",
       "Comedy       50261612068\n",
       "Thriller     49894111563\n",
       "Name: budget, dtype: int64"
      ]
     },
     "execution_count": 22,
     "metadata": {},
     "output_type": "execute_result"
    }
   ],
   "source": [
    "Top_gen_bud = df.groupby(['genres'])['budget'].sum().nlargest(n=5)\n",
    "Top_gen_bud"
   ]
  },
  {
   "cell_type": "code",
   "execution_count": 40,
   "id": "811ce389",
   "metadata": {},
   "outputs": [],
   "source": [
    "sns.set_style('darkgrid')\n",
    "\n",
    "# Defining a chart function\n",
    "def creat_barchart(df, x_label, y_label, chart_title, color):\n",
    "    \"\"\" we creat a barchart function, with the axis labels, title and colors...  \"\"\"\n",
    "    chart=df.plot(kind='bar', title=chart_title, color=color, figsize=(8, 5), legend=True)\n",
    "    chart.set_xlabel(x_label, fontsize=13)\n",
    "    chart.set_ylabel(y_label, fontsize=13)\n",
    "    chart.set_title(chart_title, fontsize=14)\n",
    "    return chart"
   ]
  },
  {
   "cell_type": "code",
   "execution_count": 41,
   "id": "0c97d3ff",
   "metadata": {},
   "outputs": [
    {
     "data": {
      "image/png": "[encoded data removed]",
      "text/plain": [
       "<Figure size 576x360 with 1 Axes>"
      ]
     },
     "metadata": {},
     "output_type": "display_data"
    }
   ],
   "source": [
    "creat_barchart(df=Top_gen_bud, x_label='Genres',\n",
    "               y_label='Budget in Billions',\n",
    "               chart_title='Highest Budget Genres(Top 5) Over The Years',\n",
    "               color=['saddlebrown', 'sienna', 'chocolate', 'peru', 'sandybrown']);"
   ]
  },
  {
   "cell_type": "markdown",
   "id": "91f95132",
   "metadata": {},
   "source": [
    "**Findings:** For the duration of the Dataset,the genre with the highest movie budget is **Action** with an amount of ($65,777,453,609$) and the genre that has the least overall budget is **Tv Movie** with ($44,700,000$) in Total."
   ]
  },
  {
   "cell_type": "markdown",
   "id": "bac8c885",
   "metadata": {},
   "source": [
    "#### Q2. Which of the genre generated the highest revenue over the years? (Top 5)"
   ]
  },
  {
   "cell_type": "code",
   "execution_count": 25,
   "id": "02625048",
   "metadata": {},
   "outputs": [
    {
     "data": {
      "text/plain": [
       "genres\n",
       "Action             172116808220\n",
       "Adventure          164724072264\n",
       "Animation           52126588611\n",
       "Comedy             141463328393\n",
       "Crime               56922509177\n",
       "Documentary          1025863469\n",
       "Drama              136941221557\n",
       "Family              88298554220\n",
       "Fantasy             88108037160\n",
       "Foreign               274846449\n",
       "History             10224531754\n",
       "Horror              27458888763\n",
       "Music               11180330360\n",
       "Mystery             32364429695\n",
       "Romance             60183311857\n",
       "Science Fiction     85923445738\n",
       "TV Movie               42000000\n",
       "Thriller           120157776724\n",
       "War                 12324889018\n",
       "Western              4470524950\n",
       "Name: revenue, dtype: int64"
      ]
     },
     "execution_count": 25,
     "metadata": {},
     "output_type": "execute_result"
    }
   ],
   "source": [
    " df.groupby(['genres'])['revenue'].sum()"
   ]
  },
  {
   "cell_type": "code",
   "execution_count": 26,
   "id": "80e8e63e",
   "metadata": {},
   "outputs": [
    {
     "data": {
      "text/plain": [
       "genres\n",
       "Action       172116808220\n",
       "Adventure    164724072264\n",
       "Comedy       141463328393\n",
       "Drama        136941221557\n",
       "Thriller     120157776724\n",
       "Name: revenue, dtype: int64"
      ]
     },
     "execution_count": 26,
     "metadata": {},
     "output_type": "execute_result"
    }
   ],
   "source": [
    "Top_gen_rev = df.groupby(['genres'])['revenue'].sum().nlargest(n=5)\n",
    "Top_gen_rev"
   ]
  },
  {
   "cell_type": "code",
   "execution_count": 42,
   "id": "95d07b5c",
   "metadata": {},
   "outputs": [
    {
     "data": {
      "image/png": "[encoded data removed]",
      "text/plain": [
       "<Figure size 576x360 with 1 Axes>"
      ]
     },
     "metadata": {},
     "output_type": "display_data"
    }
   ],
   "source": [
    "creat_barchart(df=Top_gen_rev, x_label='Genres',\n",
    "               y_label='Revenue in Billions',\n",
    "               chart_title='Highest Revenue Genres(Top 5) Over The Years',\n",
    "               color=['steelblue', 'deepskyblue', 'lightskyblue', 'skyblue', 'lightblue']);"
   ]
  },
  {
   "cell_type": "markdown",
   "id": "3615ad38",
   "metadata": {},
   "source": [
    "**Findings:** For the duration of the Dataset,the genre with the highest movie revenue is **Action** with an amount of ($172,116,808,220$) and the genre that has the least revenue is **Tv Movie** with ($42,000,000$) in Total."
   ]
  },
  {
   "cell_type": "markdown",
   "id": "d6e26e32",
   "metadata": {},
   "source": [
    "#### Q3. How is the vote_average distributed?"
   ]
  },
  {
   "cell_type": "code",
   "execution_count": 28,
   "id": "e93efbbe",
   "metadata": {},
   "outputs": [
    {
     "data": {
      "text/plain": [
       "5.934860557768945"
      ]
     },
     "execution_count": 28,
     "metadata": {},
     "output_type": "execute_result"
    }
   ],
   "source": [
    "# to know how the vote_average is distributed, we need to determine the mean\n",
    "df.vote_average.mean()"
   ]
  },
  {
   "cell_type": "code",
   "execution_count": 29,
   "id": "7bdd055f",
   "metadata": {},
   "outputs": [
    {
     "data": {
      "image/png": "[encoded data removed]",
      "text/plain": [
       "<Figure size 576x360 with 1 Axes>"
      ]
     },
     "metadata": {},
     "output_type": "display_data"
    }
   ],
   "source": [
    "import warnings\n",
    "warnings.filterwarnings('ignore')\n",
    "\n",
    "# Distribution plot of vote_average\n",
    "f, ax = plt.subplots(figsize=(8, 5))\n",
    "sns.distplot(df.vote_average, bins=13, color='dimgray')\n",
    "plt.title('Distrbution of Vote_average', fontsize=14);"
   ]
  },
  {
   "cell_type": "markdown",
   "id": "6ed5cbe3",
   "metadata": {},
   "source": [
    "**Findings:** The distribution of vote_average column of the dataset is **skewed-to-the-left** which indicates that there are more vote_average values to the left of the mean (5.93486) in the distribution"
   ]
  },
  {
   "cell_type": "markdown",
   "id": "1576dc2e",
   "metadata": {},
   "source": [
    "#### Q4. Do movies with higher popularity receive better ratings?"
   ]
  },
  {
   "cell_type": "code",
   "execution_count": 30,
   "id": "6c57e75d",
   "metadata": {},
   "outputs": [
    {
     "data": {
      "text/plain": [
       "0.420915"
      ]
     },
     "execution_count": 30,
     "metadata": {},
     "output_type": "execute_result"
    }
   ],
   "source": [
    "#find the median value of popularity\n",
    "df.popularity.median()"
   ]
  },
  {
   "cell_type": "code",
   "execution_count": 31,
   "id": "26895872",
   "metadata": {},
   "outputs": [
    {
     "data": {
      "text/plain": [
       "True"
      ]
     },
     "execution_count": 31,
     "metadata": {},
     "output_type": "execute_result"
    }
   ],
   "source": [
    "# select sample with popularity lower than the median\n",
    "low_popularity = df.query('popularity < 0.420915')\n",
    "\n",
    "# select sample with popularity greater than or equal to the median\n",
    "high_popularity = df.query('popularity >= 0.420915')\n",
    "\n",
    "# ensure these queries included each sample exactly once\n",
    "num_samples = df.shape[0]\n",
    "num_samples == low_popularity['vote_average'].count() + high_popularity['vote_average'].count() "
   ]
  },
  {
   "cell_type": "code",
   "execution_count": 32,
   "id": "0dc5e7c9",
   "metadata": {},
   "outputs": [
    {
     "name": "stdout",
     "output_type": "stream",
     "text": [
      "[5.7689062500000405, 6.100788939228275]\n"
     ]
    }
   ],
   "source": [
    "# we get the mean vote_average rating for both high & low popularity group and append it to a list\n",
    "list1 = []\n",
    "means = low_popularity['vote_average'].mean(), high_popularity['vote_average'].mean()\n",
    "for i in means:\n",
    "    list1.append(i)\n",
    "print(list1)"
   ]
  },
  {
   "cell_type": "code",
   "execution_count": 39,
   "id": "02227fea",
   "metadata": {},
   "outputs": [
    {
     "data": {
      "image/png": "[encoded data removed]",
      "text/plain": [
       "<Figure size 576x360 with 1 Axes>"
      ]
     },
     "metadata": {},
     "output_type": "display_data"
    }
   ],
   "source": [
    "colors=['orange','steelblue']\n",
    "f, ax = plt.subplots(figsize=(8, 5))\n",
    "plt.bar([1, 2], list1, tick_label=['Low_poularity', 'High_popularity'], color=colors,)\n",
    "plt.title('Average Rating By Popularity', fontsize=14)\n",
    "plt.xlabel('Popularity')\n",
    "plt.ylabel('Ratings');"
   ]
  },
  {
   "cell_type": "markdown",
   "id": "7fe96c36",
   "metadata": {},
   "source": [
    "**Findings:** Movies with high popularity tends to have higher ratings compared to movies with low popularity."
   ]
  },
  {
   "cell_type": "markdown",
   "id": "551c7b14",
   "metadata": {},
   "source": [
    "#### Q5. Is there any singnificant relationship between revenue and popularity?"
   ]
  },
  {
   "cell_type": "code",
   "execution_count": 34,
   "id": "2d16dd07",
   "metadata": {},
   "outputs": [
    {
     "data": {
      "image/png": "[encoded data removed]",
      "text/plain": [
       "<Figure size 576x360 with 1 Axes>"
      ]
     },
     "metadata": {},
     "output_type": "display_data"
    }
   ],
   "source": [
    "f, ax = plt.subplots(figsize=(8, 5))\n",
    "sns.scatterplot(data=df, x='revenue', y='popularity')\n",
    "plt.title('Relationship between Popularity and Revenue', fontsize=14);"
   ]
  },
  {
   "cell_type": "markdown",
   "id": "69a080a9",
   "metadata": {},
   "source": [
    "**Findings:** There is No correlation between revenue and popularity"
   ]
  },
  {
   "cell_type": "markdown",
   "id": "0875216c",
   "metadata": {},
   "source": [
    "#### Q6. What is the trend of movie duration over the years?"
   ]
  },
  {
   "cell_type": "code",
   "execution_count": 35,
   "id": "a3b03a55",
   "metadata": {},
   "outputs": [],
   "source": [
    "run = df.groupby(['release_year'], as_index=False)['runtime'].mean()"
   ]
  },
  {
   "cell_type": "code",
   "execution_count": 36,
   "id": "b67cdabe",
   "metadata": {},
   "outputs": [
    {
     "data": {
      "image/png": "[encoded data removed]",
      "text/plain": [
       "<Figure size 576x360 with 1 Axes>"
      ]
     },
     "metadata": {},
     "output_type": "display_data"
    }
   ],
   "source": [
    "f, ax = plt.subplots(figsize=(8, 5))\n",
    "sns.lineplot(data=run, x='release_year', y='runtime', legend=True)\n",
    "plt.title('Trend of Movie Duration', fontsize=14)\n",
    "plt.legend(labels=['Runtime']);"
   ]
  },
  {
   "cell_type": "markdown",
   "id": "337af478",
   "metadata": {},
   "source": [
    "**Findings:** According to the chart, it is evident that the movie runtime has declined over the years."
   ]
  },
  {
   "cell_type": "markdown",
   "id": "44ac3a58",
   "metadata": {},
   "source": [
    "#### Q7. How is the most revenue generating genre rated in the last five years of the dataset period"
   ]
  },
  {
   "cell_type": "code",
   "execution_count": 37,
   "id": "5654dd7d",
   "metadata": {},
   "outputs": [
    {
     "data": {
      "text/html": [
       "<div>\n",
       "<style scoped>\n",
       "    .dataframe tbody tr th:only-of-type {\n",
       "        vertical-align: middle;\n",
       "    }\n",
       "\n",
       "    .dataframe tbody tr th {\n",
       "        vertical-align: top;\n",
       "    }\n",
       "\n",
       "    .dataframe thead th {\n",
       "        text-align: right;\n",
       "    }\n",
       "</style>\n",
       "<table border=\"1\" class=\"dataframe\">\n",
       "  <thead>\n",
       "    <tr style=\"text-align: right;\">\n",
       "      <th></th>\n",
       "      <th>count</th>\n",
       "      <th>mean</th>\n",
       "      <th>std</th>\n",
       "      <th>min</th>\n",
       "      <th>25%</th>\n",
       "      <th>50%</th>\n",
       "      <th>75%</th>\n",
       "      <th>max</th>\n",
       "    </tr>\n",
       "    <tr>\n",
       "      <th>release_year</th>\n",
       "      <th></th>\n",
       "      <th></th>\n",
       "      <th></th>\n",
       "      <th></th>\n",
       "      <th></th>\n",
       "      <th></th>\n",
       "      <th></th>\n",
       "      <th></th>\n",
       "    </tr>\n",
       "  </thead>\n",
       "  <tbody>\n",
       "    <tr>\n",
       "      <th>2011</th>\n",
       "      <td>115.0</td>\n",
       "      <td>5.757391</td>\n",
       "      <td>0.878202</td>\n",
       "      <td>3.0</td>\n",
       "      <td>5.25</td>\n",
       "      <td>5.80</td>\n",
       "      <td>6.40</td>\n",
       "      <td>8.1</td>\n",
       "    </tr>\n",
       "    <tr>\n",
       "      <th>2012</th>\n",
       "      <td>99.0</td>\n",
       "      <td>5.461616</td>\n",
       "      <td>1.219711</td>\n",
       "      <td>2.0</td>\n",
       "      <td>4.90</td>\n",
       "      <td>5.60</td>\n",
       "      <td>6.20</td>\n",
       "      <td>7.6</td>\n",
       "    </tr>\n",
       "    <tr>\n",
       "      <th>2013</th>\n",
       "      <td>119.0</td>\n",
       "      <td>5.602521</td>\n",
       "      <td>1.121550</td>\n",
       "      <td>2.2</td>\n",
       "      <td>5.10</td>\n",
       "      <td>5.70</td>\n",
       "      <td>6.35</td>\n",
       "      <td>7.8</td>\n",
       "    </tr>\n",
       "    <tr>\n",
       "      <th>2014</th>\n",
       "      <td>129.0</td>\n",
       "      <td>5.642636</td>\n",
       "      <td>1.106781</td>\n",
       "      <td>2.4</td>\n",
       "      <td>5.10</td>\n",
       "      <td>5.60</td>\n",
       "      <td>6.30</td>\n",
       "      <td>7.9</td>\n",
       "    </tr>\n",
       "    <tr>\n",
       "      <th>2015</th>\n",
       "      <td>106.0</td>\n",
       "      <td>5.611321</td>\n",
       "      <td>1.010829</td>\n",
       "      <td>3.3</td>\n",
       "      <td>5.00</td>\n",
       "      <td>5.55</td>\n",
       "      <td>6.30</td>\n",
       "      <td>7.7</td>\n",
       "    </tr>\n",
       "  </tbody>\n",
       "</table>\n",
       "</div>"
      ],
      "text/plain": [
       "              count      mean       std  min   25%   50%   75%  max\n",
       "release_year                                                       \n",
       "2011          115.0  5.757391  0.878202  3.0  5.25  5.80  6.40  8.1\n",
       "2012           99.0  5.461616  1.219711  2.0  4.90  5.60  6.20  7.6\n",
       "2013          119.0  5.602521  1.121550  2.2  5.10  5.70  6.35  7.8\n",
       "2014          129.0  5.642636  1.106781  2.4  5.10  5.60  6.30  7.9\n",
       "2015          106.0  5.611321  1.010829  3.3  5.00  5.55  6.30  7.7"
      ]
     },
     "execution_count": 37,
     "metadata": {},
     "output_type": "execute_result"
    }
   ],
   "source": [
    "# filter out the last five years in the dataset\n",
    "last_5 = df.query('release_year == [2011, 2012, 2013, 2014, 2015] ')\n",
    "\n",
    "# descriptive statistics of Action (Higest revenue generating genre) in the last 5 years of the dataset\n",
    "last_5[last_5.genres == 'Action'].groupby(['release_year'])['vote_average'].describe()"
   ]
  },
  {
   "cell_type": "code",
   "execution_count": 38,
   "id": "115c7416",
   "metadata": {},
   "outputs": [
    {
     "data": {
      "image/png": "[encoded data removed]",
      "text/plain": [
       "<Figure size 576x360 with 1 Axes>"
      ]
     },
     "metadata": {},
     "output_type": "display_data"
    }
   ],
   "source": [
    "f, ax = plt.subplots(figsize=(8, 5))\n",
    "sns.violinplot(data=last_5[last_5.genres == 'Action'], x='release_year', y='vote_average', palette='YlOrBr')\n",
    "plt.title('Ratings Of Action Genre (From 2011 to 2015)', fontsize=14);"
   ]
  },
  {
   "cell_type": "markdown",
   "id": "d6e23f82",
   "metadata": {},
   "source": [
    "**Insights:** Action which is the most revenue generating movie genre is rated according the following:\n",
    "> 2011 - Majority of it's ratings falls between the range of 5 & 7, having the maximum rating at 8.1.\n",
    "\n",
    "> 2012 - The observe ratings are majorly between the range of 5 & 6, having it's minimum drop to the lowest at 2.0.\n",
    "\n",
    "> 2013 - The ratings are mostly between 5 & 6.5.\n",
    "\n",
    "> 2014 - This year has better ratings overall, compared to the previous two years.\n",
    "\n",
    "> 2015 - The mininimum rating this year is 3.3 (highest among the previous years) and majority of the vote_averages lies between 5 & 6."
   ]
  },
  {
   "cell_type": "markdown",
   "id": "7571b074",
   "metadata": {},
   "source": [
    "## Conclusions"
   ]
  },
  {
   "cell_type": "markdown",
   "id": "f4db252d",
   "metadata": {},
   "source": [
    "**Limitations**\n",
    "> Analyzing this dataset comes with a bunch of limitations in the Data wrangling process, **from** checking up on duplicated values/rows, dealing wih NAN (null) values **to** modifying the dataset in order to have a quality structure.\n",
    "\n",
    "**Insights**\n",
    "> It was revealed that Action is the movie genre with the highest budget & revenue, while Tv Movies genre is the lowest in both categories. It should be known that over the years, the runtime of movies has declined repeatedly and movies with higher popularity tends to have better ratings on the average.\n",
    "\n",
    "> The ratings of movies also have a distribution that is skewed-to-the-left, with a mean value of (5.93486). The correlation between revenue genrated by a movie and it's popularity  was checked and it was revealed that there is No relationship between the popularity of movies & the revenue generated by theose movies."
   ]
  },
  {
   "cell_type": "code",
   "execution_count": null,
   "id": "83fab8d5",
   "metadata": {},
   "outputs": [],
   "source": []
  }
 ],
 "metadata": {
  "kernelspec": {
   "display_name": "Python 3 (ipykernel)",
   "language": "python",
   "name": "python3"
  },
  "language_info": {
   "codemirror_mode": {
    "name": "ipython",
    "version": 3
   },
   "file_extension": ".py",
   "mimetype": "text/x-python",
   "name": "python",
   "nbconvert_exporter": "python",
   "pygments_lexer": "ipython3",
   "version": "3.9.12"
  }
 },
 "nbformat": 4,
 "nbformat_minor": 5
}
